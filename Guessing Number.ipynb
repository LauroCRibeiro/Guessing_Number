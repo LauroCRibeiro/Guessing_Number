{
 "cells": [
  {
   "cell_type": "code",
   "execution_count": null,
   "metadata": {},
   "outputs": [],
   "source": [
    "import random \n",
    "import PySimpleGUI as sg\n",
    "\n",
    "class GuessNumber:\n",
    "    def __init__(self):\n",
    "        self.random_number = 0\n",
    "        self.min_value = 1\n",
    "        self.max_value = 100\n",
    "        self.try_again = True\n",
    "    \n",
    "    def Start(self):\n",
    "        # Layout\n",
    "        layout = [\n",
    "            [sg.Text('Your Guess',size=(39,0))],\n",
    "            [sg.Input(size=(18,0),key='GuessValue')],\n",
    "            [sg.Button('Guess!')],\n",
    "            [sg.Output(size=(39,10))]\n",
    "        ]\n",
    "        # create a Frame\n",
    "        self.window = sg.Window('Guess a number!',layout=layout)\n",
    "        self.CreateNumberRandom()\n",
    "        try:\n",
    "            while True:\n",
    "                # receive the values\n",
    "                self.evento, self.values = self.window.Read()\n",
    "                # Do something with this value\n",
    "                if self.evento == 'Guess!':\n",
    "                    self.guess_value = self.values['GuessValue']\n",
    "                    while self.try_again == True:\n",
    "                        if int(self.guess_value) > self.random_value:\n",
    "                            print('Guess a lower value!')\n",
    "                            break\n",
    "                        elif int(self.guess_value) < self.random_value:\n",
    "                            print('Guess a higher value!')\n",
    "                            break\n",
    "                        if int(self.guess_value) == self.random_value:\n",
    "                            self.try_again = False\n",
    "                            print('Congratutalions, SPOT ON!!')\n",
    "                            break\n",
    "        except:\n",
    "            print('Please type only numbers!')\n",
    "            self.Start()\n",
    "            \n",
    "\n",
    "    def CreateNumberRandom(self):\n",
    "        self.random_value =  random.randint(self.min_value,self.max_value)\n",
    "\n",
    "guess = GuessNumber()\n",
    "guess.Start()"
   ]
  }
 ],
 "metadata": {
  "kernelspec": {
   "display_name": "Python 3",
   "language": "python",
   "name": "python3"
  },
  "language_info": {
   "codemirror_mode": {
    "name": "ipython",
    "version": 3
   },
   "file_extension": ".py",
   "mimetype": "text/x-python",
   "name": "python",
   "nbconvert_exporter": "python",
   "pygments_lexer": "ipython3",
   "version": "3.7.0"
  }
 },
 "nbformat": 4,
 "nbformat_minor": 2
}
